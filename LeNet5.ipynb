{
 "cells": [
  {
   "cell_type": "code",
   "execution_count": 1,
   "id": "a490f7a0-cb6d-4048-87e6-3fa66ee45232",
   "metadata": {},
   "outputs": [
    {
     "name": "stdout",
     "output_type": "stream",
     "text": [
      "WARNING:tensorflow:From c:\\Users\\The Beast\\AppData\\Local\\Programs\\Python\\Python311\\Lib\\site-packages\\keras\\src\\losses.py:2976: The name tf.losses.sparse_softmax_cross_entropy is deprecated. Please use tf.compat.v1.losses.sparse_softmax_cross_entropy instead.\n",
      "\n"
     ]
    }
   ],
   "source": [
    "import tensorflow as tf\n",
    "from tensorflow import keras\n",
    "import numpy as np\n",
    "from matplotlib import pyplot\n",
    "from keras.models import model_from_json"
   ]
  },
  {
   "cell_type": "code",
   "execution_count": 2,
   "id": "93d3031b-4533-4aec-a39f-02e28c2e70a7",
   "metadata": {},
   "outputs": [
    {
     "name": "stdout",
     "output_type": "stream",
     "text": [
      "Downloading data from https://storage.googleapis.com/tensorflow/tf-keras-datasets/mnist.npz\n",
      "11490434/11490434 [==============================] - 1s 0us/step\n"
     ]
    },
    {
     "data": {
      "text/plain": [
       "(60000, 28, 28)"
      ]
     },
     "execution_count": 2,
     "metadata": {},
     "output_type": "execute_result"
    }
   ],
   "source": [
    "(train_x, train_y), (test_x, test_y) = keras.datasets.mnist.load_data()\n",
    "train_x = train_x / 255.0\n",
    "test_x = test_x / 255.0\n",
    "train_x.shape"
   ]
  },
  {
   "cell_type": "code",
   "execution_count": 3,
   "id": "f25fabb6-19d5-49a4-9598-085544a8aab2",
   "metadata": {},
   "outputs": [
    {
     "data": {
      "text/plain": [
       "TensorShape([60000, 28, 28, 1])"
      ]
     },
     "execution_count": 3,
     "metadata": {},
     "output_type": "execute_result"
    }
   ],
   "source": [
    "train_x = tf.expand_dims(train_x, 3)\n",
    "test_x = tf.expand_dims(test_x, 3)\n",
    "val_x = train_x[:5000]\n",
    "val_y = train_y[:5000]\n",
    "train_x.shape"
   ]
  },
  {
   "cell_type": "code",
   "execution_count": 4,
   "id": "932346b8-8227-448e-aa93-8912ca971962",
   "metadata": {},
   "outputs": [
    {
     "name": "stdout",
     "output_type": "stream",
     "text": [
      "WARNING:tensorflow:From c:\\Users\\The Beast\\AppData\\Local\\Programs\\Python\\Python311\\Lib\\site-packages\\keras\\src\\backend.py:873: The name tf.get_default_graph is deprecated. Please use tf.compat.v1.get_default_graph instead.\n",
      "\n"
     ]
    }
   ],
   "source": [
    "lenet_5_model = keras.models.Sequential([\n",
    "    keras.layers.Conv2D(6, kernel_size=5, strides=1,  activation='tanh', input_shape=train_x[0].shape, padding='same'), #C1\n",
    "    keras.layers.AveragePooling2D(), #S2\n",
    "    keras.layers.Conv2D(16, kernel_size=5, strides=1, activation='tanh', padding='valid'), #C3\n",
    "    keras.layers.AveragePooling2D(), #S4\n",
    "    keras.layers.Flatten(), #Flatten\n",
    "    keras.layers.Dense(120, activation='tanh'), #C5\n",
    "    keras.layers.Dense(84, activation='tanh'), #F6\n",
    "    keras.layers.Dense(10, activation='softmax') #Output layer\n",
    "])"
   ]
  },
  {
   "cell_type": "code",
   "execution_count": 5,
   "id": "0f9c7fb0-964d-4279-8347-1533097d7c66",
   "metadata": {},
   "outputs": [
    {
     "name": "stdout",
     "output_type": "stream",
     "text": [
      "WARNING:tensorflow:From c:\\Users\\The Beast\\AppData\\Local\\Programs\\Python\\Python311\\Lib\\site-packages\\keras\\src\\optimizers\\__init__.py:309: The name tf.train.Optimizer is deprecated. Please use tf.compat.v1.train.Optimizer instead.\n",
      "\n"
     ]
    }
   ],
   "source": [
    "lenet_5_model.compile(optimizer='adam',loss=keras.losses.sparse_categorical_crossentropy, metrics=['accuracy'])"
   ]
  },
  {
   "cell_type": "code",
   "execution_count": 6,
   "id": "c1dadc66-075f-4398-9849-4dc87647163f",
   "metadata": {},
   "outputs": [
    {
     "name": "stdout",
     "output_type": "stream",
     "text": [
      "Epoch 1/5\n",
      "WARNING:tensorflow:From c:\\Users\\The Beast\\AppData\\Local\\Programs\\Python\\Python311\\Lib\\site-packages\\keras\\src\\utils\\tf_utils.py:492: The name tf.ragged.RaggedTensorValue is deprecated. Please use tf.compat.v1.ragged.RaggedTensorValue instead.\n",
      "\n",
      "WARNING:tensorflow:From c:\\Users\\The Beast\\AppData\\Local\\Programs\\Python\\Python311\\Lib\\site-packages\\keras\\src\\engine\\base_layer_utils.py:384: The name tf.executing_eagerly_outside_functions is deprecated. Please use tf.compat.v1.executing_eagerly_outside_functions instead.\n",
      "\n",
      "1875/1875 [==============================] - 16s 7ms/step - loss: 0.2381 - accuracy: 0.9291 - val_loss: 0.0945 - val_accuracy: 0.9728\n",
      "Epoch 2/5\n",
      "1875/1875 [==============================] - 13s 7ms/step - loss: 0.0968 - accuracy: 0.9707 - val_loss: 0.0599 - val_accuracy: 0.9844\n",
      "Epoch 3/5\n",
      "1875/1875 [==============================] - 14s 7ms/step - loss: 0.0680 - accuracy: 0.9790 - val_loss: 0.0528 - val_accuracy: 0.9838\n",
      "Epoch 4/5\n",
      "1875/1875 [==============================] - 14s 7ms/step - loss: 0.0498 - accuracy: 0.9840 - val_loss: 0.0364 - val_accuracy: 0.9896\n",
      "Epoch 5/5\n",
      "1875/1875 [==============================] - 14s 8ms/step - loss: 0.0405 - accuracy: 0.9875 - val_loss: 0.0246 - val_accuracy: 0.9934\n"
     ]
    },
    {
     "data": {
      "text/plain": [
       "<keras.src.callbacks.History at 0x1c969fa3f90>"
      ]
     },
     "execution_count": 6,
     "metadata": {},
     "output_type": "execute_result"
    }
   ],
   "source": [
    "lenet_5_model.fit(train_x, train_y, epochs=5, validation_data=(val_x, val_y))"
   ]
  },
  {
   "cell_type": "code",
   "execution_count": 7,
   "id": "b9886896-43dc-4831-a595-7f040928b87f",
   "metadata": {},
   "outputs": [
    {
     "name": "stdout",
     "output_type": "stream",
     "text": [
      "313/313 [==============================] - 1s 4ms/step - loss: 0.0621 - accuracy: 0.9813\n"
     ]
    },
    {
     "data": {
      "text/plain": [
       "[0.06208605319261551, 0.9812999963760376]"
      ]
     },
     "execution_count": 7,
     "metadata": {},
     "output_type": "execute_result"
    }
   ],
   "source": [
    "lenet_5_model.evaluate(test_x, test_y)"
   ]
  },
  {
   "cell_type": "code",
   "execution_count": 8,
   "id": "e6e8ca62-f863-4e73-acac-25cd7c8d91f9",
   "metadata": {},
   "outputs": [
    {
     "data": {
      "image/png": "[encoded data removed]",
      "text/plain": [
       "<Figure size 640x480 with 1 Axes>"
      ]
     },
     "metadata": {},
     "output_type": "display_data"
    },
    {
     "data": {
      "image/png": "[encoded data removed]",
      "text/plain": [
       "<Figure size 640x480 with 1 Axes>"
      ]
     },
     "metadata": {},
     "output_type": "display_data"
    },
    {
     "data": {
      "image/png": "[encoded data removed]",
      "text/plain": [
       "<Figure size 640x480 with 1 Axes>"
      ]
     },
     "metadata": {},
     "output_type": "display_data"
    }
   ],
   "source": [
    "for i in range(3):  \n",
    "    pyplot.subplot(330 + 1 + i)\n",
    "    pyplot.imshow(train_x[i], cmap=pyplot.get_cmap('gray'))\n",
    "    pyplot.show()"
   ]
  },
  {
   "cell_type": "code",
   "execution_count": 27,
   "id": "329cc15c-9b02-462d-b4e3-5b9d4c765bd8",
   "metadata": {},
   "outputs": [
    {
     "name": "stderr",
     "output_type": "stream",
     "text": [
      "2021-12-16 21:35:32.650796: W tensorflow/python/util/util.cc:348] Sets are not currently considered sequences, but this may change in the future, so consider avoiding using them.\n"
     ]
    },
    {
     "name": "stdout",
     "output_type": "stream",
     "text": [
      "INFO:tensorflow:Assets written to: lenet_5_model/assets\n",
      "['saved_model.pb', 'variables', 'assets']\n"
     ]
    }
   ],
   "source": [
    "lenet_5_model.save('lenet_5_model')\n",
    "print(os.listdir('lenet_5_model'))"
   ]
  },
  {
   "cell_type": "code",
   "execution_count": 28,
   "id": "d883f56b-b134-4d81-aedb-1a0213cf2e5a",
   "metadata": {},
   "outputs": [],
   "source": [
    "lenet_5_model.save(\"my.h5\")"
   ]
  },
  {
   "cell_type": "code",
   "execution_count": 32,
   "id": "e4039b16-8b65-4686-8e77-d8933555c2b1",
   "metadata": {},
   "outputs": [
    {
     "name": "stdout",
     "output_type": "stream",
     "text": [
      "Model: \"sequential_2\"\n",
      "_________________________________________________________________\n",
      "Layer (type)                 Output Shape              Param #   \n",
      "=================================================================\n",
      "conv2d_4 (Conv2D)            (None, 28, 28, 6)         156       \n",
      "_________________________________________________________________\n",
      "average_pooling2d_4 (Average (None, 14, 14, 6)         0         \n",
      "_________________________________________________________________\n",
      "conv2d_5 (Conv2D)            (None, 10, 10, 16)        2416      \n",
      "_________________________________________________________________\n",
      "average_pooling2d_5 (Average (None, 5, 5, 16)          0         \n",
      "_________________________________________________________________\n",
      "flatten_2 (Flatten)          (None, 400)               0         \n",
      "_________________________________________________________________\n",
      "dense_6 (Dense)              (None, 120)               48120     \n",
      "_________________________________________________________________\n",
      "dense_7 (Dense)              (None, 84)                10164     \n",
      "_________________________________________________________________\n",
      "dense_8 (Dense)              (None, 10)                850       \n",
      "=================================================================\n",
      "Total params: 61,706\n",
      "Trainable params: 61,706\n",
      "Non-trainable params: 0\n",
      "_________________________________________________________________\n"
     ]
    }
   ],
   "source": [
    "lenet_5_model.summary()"
   ]
  },
  {
   "cell_type": "code",
   "execution_count": 34,
   "id": "24d1a878-c7a2-4688-9dca-35ab8c5edd2c",
   "metadata": {},
   "outputs": [],
   "source": [
    "json_model = lenet_5_model.to_json()"
   ]
  },
  {
   "cell_type": "code",
   "execution_count": 35,
   "id": "c3a3b789-e537-4677-931e-6688b2786be7",
   "metadata": {},
   "outputs": [],
   "source": [
    "with open('fashionmnist_model.json', 'w') as json_file:\n",
    "    json_file.write(json_model)"
   ]
  },
  {
   "cell_type": "code",
   "execution_count": 36,
   "id": "14bd5eec-4991-4eed-ac6e-4d6d126a167d",
   "metadata": {},
   "outputs": [],
   "source": [
    "lenet_5_model.save_weights('FashionMNIST_weights.h5')"
   ]
  },
  {
   "cell_type": "code",
   "execution_count": 44,
   "id": "929aed57-808a-4df6-a9f7-ce9eec9d4ba1",
   "metadata": {},
   "outputs": [
    {
     "data": {
      "text/plain": [
       "array([[[[ 6.68141693e-02,  3.90601605e-01, -4.71222140e-02,\n",
       "          -2.57536042e-02,  1.28076300e-01, -2.57163763e-01]],\n",
       "\n",
       "        [[ 5.09936273e-01, -1.82029694e-01,  1.39288381e-01,\n",
       "          -2.35588476e-02,  2.86766291e-01, -1.17572233e-01]],\n",
       "\n",
       "        [[ 5.84757566e-01, -5.32301366e-01,  5.08587100e-02,\n",
       "          -2.86958277e-01,  6.45525530e-02,  4.10433978e-01]],\n",
       "\n",
       "        [[ 1.02631763e-01, -6.17669880e-01,  2.34685853e-01,\n",
       "          -2.68182874e-01,  4.34194237e-01,  4.54737902e-01]],\n",
       "\n",
       "        [[-1.26116991e-01, -1.23500511e-01,  2.58246332e-01,\n",
       "           7.00357482e-02,  3.76941115e-01,  4.01081383e-01]]],\n",
       "\n",
       "\n",
       "       [[[ 3.26076925e-01,  3.59698862e-01,  2.49535486e-01,\n",
       "          -3.06994058e-02,  3.55702490e-01, -3.60050529e-01]],\n",
       "\n",
       "        [[ 8.32371175e-01, -2.53291667e-01,  3.74732196e-01,\n",
       "           1.12577178e-01,  1.29559278e-01, -3.32056582e-01]],\n",
       "\n",
       "        [[ 5.33719182e-01, -9.69543278e-01,  1.92305014e-01,\n",
       "          -3.43296707e-01,  2.46924967e-01, -2.94832706e-01]],\n",
       "\n",
       "        [[ 9.88007262e-02, -5.96861839e-01,  1.48996413e-02,\n",
       "          -2.66169041e-01, -3.41308415e-02, -8.97418261e-02]],\n",
       "\n",
       "        [[-1.48173096e-02, -1.13705084e-01,  3.56116802e-01,\n",
       "           4.79039066e-02,  8.47773254e-02, -1.87046096e-01]]],\n",
       "\n",
       "\n",
       "       [[[-4.59387004e-02,  3.56241882e-01,  4.28927034e-01,\n",
       "           3.64977956e-01,  2.37320483e-01, -2.39782259e-01]],\n",
       "\n",
       "        [[ 2.94062883e-01, -5.62606454e-01,  2.40411296e-01,\n",
       "           1.19652450e-01, -7.66015425e-02, -2.66042918e-01]],\n",
       "\n",
       "        [[-1.36766061e-01, -1.41000497e+00,  5.05679175e-02,\n",
       "           1.23191357e-01, -4.24872279e-01, -3.35587054e-01]],\n",
       "\n",
       "        [[-1.46958888e-01, -7.82894865e-02,  8.03644285e-02,\n",
       "          -1.16667174e-01, -4.88764137e-01, -7.32570708e-01]],\n",
       "\n",
       "        [[-1.61935225e-01,  2.15540320e-01, -9.34314041e-04,\n",
       "           1.21649228e-01, -3.56923401e-01, -6.17517292e-01]]],\n",
       "\n",
       "\n",
       "       [[[ 1.53587982e-02,  1.76715404e-02,  8.74635652e-02,\n",
       "           2.73899555e-01,  9.70068276e-02,  1.35717586e-01]],\n",
       "\n",
       "        [[-3.97850782e-01, -9.77022946e-01, -2.49338984e-01,\n",
       "          -1.24682143e-01, -2.99818009e-01,  7.50377849e-02]],\n",
       "\n",
       "        [[-5.62742352e-01, -5.42813957e-01, -6.12420321e-01,\n",
       "          -5.11184148e-02, -4.99041706e-01, -1.71987727e-01]],\n",
       "\n",
       "        [[-4.56744611e-01,  1.01297759e-01, -6.61467552e-01,\n",
       "           1.45610034e-01, -6.51901841e-01, -4.73269850e-01]],\n",
       "\n",
       "        [[-7.06915781e-02,  5.36127627e-01, -2.98368722e-01,\n",
       "           2.16115013e-01, -1.28551051e-01, -2.77420133e-01]]],\n",
       "\n",
       "\n",
       "       [[[-1.05861053e-01, -3.68614674e-01, -2.38343820e-01,\n",
       "          -1.76474467e-01,  1.39990598e-01,  3.76085371e-01]],\n",
       "\n",
       "        [[-9.79439691e-02, -7.78765321e-01, -3.23079824e-01,\n",
       "          -2.95514554e-01,  1.11610711e-01,  2.71385252e-01]],\n",
       "\n",
       "        [[-3.61448735e-01, -1.91968977e-01, -6.06181979e-01,\n",
       "          -5.75409457e-02, -2.66397536e-01,  3.87958467e-01]],\n",
       "\n",
       "        [[-1.36184558e-01,  1.83724523e-01, -5.49076498e-01,\n",
       "           1.52879342e-01, -1.11447379e-01,  3.08471978e-01]],\n",
       "\n",
       "        [[ 9.14727151e-02,  3.60544026e-01, -2.32318088e-01,\n",
       "          -7.93900639e-02,  1.89722523e-01,  6.00049309e-02]]]],\n",
       "      dtype=float32)"
      ]
     },
     "execution_count": 44,
     "metadata": {},
     "output_type": "execute_result"
    }
   ],
   "source": [
    "lenet_5_model.layers[0].get_weights()[0]"
   ]
  }
 ],
 "metadata": {
  "kernelspec": {
   "display_name": "Python 3",
   "language": "python",
   "name": "python3"
  },
  "language_info": {
   "codemirror_mode": {
    "name": "ipython",
    "version": 3
   },
   "file_extension": ".py",
   "mimetype": "text/x-python",
   "name": "python",
   "nbconvert_exporter": "python",
   "pygments_lexer": "ipython3",
   "version": "3.11.0"
  }
 },
 "nbformat": 4,
 "nbformat_minor": 5
}
